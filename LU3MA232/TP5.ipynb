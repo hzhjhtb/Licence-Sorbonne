{
 "cells": [
  {
   "cell_type": "markdown",
   "metadata": {},
   "source": [
    "# TP 5 : Schémas d'ordre élevé\n",
    "  "
   ]
  },
  {
   "cell_type": "code",
   "execution_count": 1,
   "metadata": {},
   "outputs": [],
   "source": [
    "import numpy as np\n",
    "import matplotlib.pyplot as plt"
   ]
  },
  {
   "cell_type": "markdown",
   "metadata": {},
   "source": [
    "### Exercice 1 : Schémas de Taylor explicite\n",
    "\n",
    "L'objectif de cet exercice est de construire des schémas de Taylor pour approximer la solution du problème de Cauchy \n",
    "\n",
    "$$\n",
    "\\begin{cases}\n",
    "y^{\\prime}(t)=f(t,y), & t>0,\\\\\n",
    "y(0)=1.\n",
    "\\end{cases}\n",
    "$$\n",
    "Pour ce TP on prendra \n",
    "$$f(t,y)=\\frac{y}{3}-\\frac{ty^4}{6},\\qquad y(0)= 1.$$ \n",
    "\n",
    "Dans ce cas, nous avons une expression explicite de (l'unique) solution $y$ sur $\\mathbb{R}^+$ :\n",
    "\n",
    "$$y(t)=\\frac{1}{\\left(3/2\\exp(-t)+(t-1)/2\\right)^{1/3}},\\qquad \\forall t\\geq 0.$$\n",
    "\n",
    "Nous utiliserons cette expression explicite pour comparer les solutions approchées trouvées par la suite.\n"
   ]
  },
  {
   "cell_type": "markdown",
   "metadata": {},
   "source": [
    "#### Usage de Sympy :\n",
    "\n",
    "Sympy est un package Python permettant de manipuler des expressions dites symboliques. Nous allons définir $f$ avec une expression symbolique, ce qui va nous permettre de faire des opérations sur $f$ qu'on ne pourrait pas faire avec une fonction classique définie par $\\texttt{def [...] return [...]}$. Par exemple, on pourra différencier $f$, l'intégrer, ou même chercher les solutions (exactes !) d'équations impliquant $f$.\n",
    "\n",
    "Si le package Sympy n'est pas installé, il vous faudra préalablement l'installer en rentrant la ligne de commande $\\texttt{pip install sympy}$. Voici la syntaxe pour utiliser Sympy :"
   ]
  },
  {
   "cell_type": "code",
   "execution_count": 2,
   "metadata": {},
   "outputs": [
    {
     "name": "stdout",
     "output_type": "stream",
     "text": [
      "-2*t*y**3/3 + 1/3\n",
      "-y**4/6\n"
     ]
    },
    {
     "data": {
      "text/latex": [
       "$\\displaystyle \\left\\{\\frac{2}{y^{3}}\\right\\}$"
      ],
      "text/plain": [
       "{2/y**3}"
      ]
     },
     "execution_count": 2,
     "metadata": {},
     "output_type": "execute_result"
    }
   ],
   "source": [
    "import sympy as sp\n",
    "from sympy.abc import t,y,h   # Mettez bien \"sympy\" et non \"sp\"\n",
    "# t,y,h sont alors réservés. NE PAS les réutiliser comme noms de variables !\n",
    "\n",
    "f=y/3-t*y**4/6    # f est une expression symbolique (et non une fonction)\n",
    "\n",
    "fy=sp.diff(f,y)     # calcule la dérivée de f selon la variable y\n",
    "ft=sp.diff(f,t)\n",
    "print(fy)\n",
    "print(ft)\n",
    "\n",
    "sp.solveset(f,t) # Résout l'équation f(t,y)=0 en cherchant t comme une fonction de y\n"
   ]
  },
  {
   "cell_type": "markdown",
   "metadata": {},
   "source": [
    "Pour transformer une expression symbolique en une fonction classique, on utilise la fonction $\\texttt{sp}.\\texttt{lambdify}$, en précisant les variables qui sont utilisées dans l'expression symbolique."
   ]
  },
  {
   "cell_type": "code",
   "execution_count": 3,
   "metadata": {},
   "outputs": [
    {
     "name": "stdout",
     "output_type": "stream",
     "text": [
      "flam(1,2) = -2.0\n",
      "flam(1,3) = -12.5\n",
      "\n",
      "[fnum(1,2) fnum(1,3)] = [ -2.  -12.5]\n"
     ]
    }
   ],
   "source": [
    "flam = sp.lambdify( [t,y] , f )           # Préciser les variables de l'expression f entre [ ]\n",
    "print('flam(1,2) =',flam(1,2))\n",
    "print('flam(1,3) =',flam(1,3))\n",
    "print('')\n",
    "\n",
    "fnum = sp.lambdify( [t,y] , f , \"numpy\")    # Grâce à \"numpy\", fnum peut prendre des tableaux numpy en arguments\n",
    "\n",
    "print('[fnum(1,2) fnum(1,3)] =', fnum( np.array([1,1]) , np.array([2,3]) ))"
   ]
  },
  {
   "cell_type": "markdown",
   "metadata": {},
   "source": [
    "#### Construction du schéma de Taylor\n",
    "\n",
    "La fonction $f(t,y)$ étant donnée, on définit la suite de fonctions $(f^k)_{k\\geq 0}$ par la récurrence suivante :\n",
    "\n",
    "$$\n",
    "\\begin{cases}\n",
    "f^{0}(t,y)=f(t,y)\\\\\n",
    "f^{k+1}(t,y)=\\frac{\\partial f^{k}}{\\partial t}(t,y)+ f(t,y) \\times\\frac{\\partial f^{k}}{\\partial y}(t,y)\n",
    "\\end{cases}\n",
    "$$\n",
    "\n",
    "Avec un pas de temps $h>0$ constant, le schéma de Taylor à l'ordre $p\\geq 1$ s'écrit \n",
    "\n",
    "$$\n",
    "\\boxed{y_{n+1}=y_{n}+F(t_n,y_n,h),\\qquad F(t_n,y_n,h)=\\sum_{k=1}^{p}\\frac{h^{k}}{k!}f^{k-1}(t_{n},y_{n})}\n",
    "$$\n",
    "\n",
    "Par exemple, pour $p=1$, on retrouve le schéma d'Euler explicite. Pour la fonction $f$ de l'énoncé, on peut montrer que le schéma de Taylor est convergent pour tout $p$. On s'intéresse à l'ordre de convergence selon la valeur de $p$."
   ]
  },
  {
   "cell_type": "markdown",
   "metadata": {},
   "source": [
    "$\\textbf{a)}$ Construire une fonction $\\texttt{DER(f,k)}$ qui prend en argument une expression $f=f(t,y)$ et un entier $k\\geq 0$ et qui renvoie $f^{k}$ en fonction des symboles $t$ et $y$. Calculer $f^{1},\\,f^{2}$ et $f^{3}$ dans le cas $f(t,y)=\\frac{y}{3}-\\frac{ty^4}{6}$. Remarquez l'intérêt d'un ordinateur. Essayer de simplifier l'expression de $g^{(3)}$ avec la commande $\\texttt{sp}.\\texttt{simplify}$. "
   ]
  },
  {
   "cell_type": "code",
   "execution_count": 5,
   "metadata": {},
   "outputs": [],
   "source": [
    "def DER(f,k):         \n",
    "    f_k = f\n",
    "    for i in range(k):\n",
    "        f_k = sp.diff(f_k, t) + sp.diff(f_k, y)*f\n",
    "    return f_k"
   ]
  },
  {
   "cell_type": "code",
   "execution_count": 6,
   "metadata": {
    "scrolled": false
   },
   "outputs": [
    {
     "name": "stdout",
     "output_type": "stream",
     "text": [
      "f^1= -y**4/6 + (-2*t*y**3/3 + 1/3)*(-t*y**4/6 + y/3)\n",
      "\n",
      "f^2= -y**4*(-2*t*y**3/3 + 1/3)/6 - 2*y**3*(-t*y**4/6 + y/3)/3 + (-t*y**4/6 + y/3)*(-2*t*y**2*(-t*y**4/6 + y/3) - 2*y**3/3 + (-2*t*y**3/3 + 1/3)**2)\n",
      "\n",
      "f^3= 2*y**7/9 - y**4*(-2*t*y**2*(-t*y**4/6 + y/3) - 2*y**3/3 + (-2*t*y**3/3 + 1/3)**2)/6 + (-t*y**4/6 + y/3)*(t*y**6/3 - 4*y**3*(-2*t*y**3/3 + 1/3)/3 - 2*y**2*(-t*y**4/6 + y/3)) + (-t*y**4/6 + y/3)*(t*y**6/3 - 4*y**3*(-2*t*y**3/3 + 1/3)/3 - 2*y**2*(-t*y**4/6 + y/3) + (-2*t*y**3/3 + 1/3)*(-2*t*y**2*(-t*y**4/6 + y/3) - 2*y**3/3 + (-2*t*y**3/3 + 1/3)**2) + (-t*y**4/6 + y/3)*(-6*t*y**2*(-2*t*y**3/3 + 1/3) - 4*t*y*(-t*y**4/6 + y/3) - 2*y**2))\n",
      "\n",
      "Simplification de f^3= y*(35*t**4*y**12 - 154*t**3*y**9 - 126*t**2*y**9 + 210*t**2*y**6 + 324*t*y**6 - 85*t*y**3 + 54*y**6 - 171*y**3 + 2)/162\n"
     ]
    }
   ],
   "source": [
    "print('f^1=',DER(f,1))\n",
    "print('')\n",
    "print('f^2=',DER(f,2))\n",
    "print('')\n",
    "print('f^3=',DER(f,3))\n",
    "print('')\n",
    "\n",
    "\n",
    "print('Simplification de f^3=',sp.simplify(DER(f,3)))"
   ]
  },
  {
   "cell_type": "markdown",
   "metadata": {},
   "source": [
    "Attention au coût en temps de $\\texttt{sp}.\\texttt{simplify}$, qui peut être plus pénalisant que le coût en mémoire de l'expression non simplifiée. Nous conseillons de l'utiliser que si l'expression à simplifier est utilisée de nombreuses fois par la suite.\n",
    "\n",
    "$\\textbf{b)}$ Construire une fonction $\\texttt{TAYLOR(f,p)}$ qui prend en argument une expression $f$, un entier $p$ et retourne l'expression $F(t,y,h)$ du schéma de Taylor d'ordre $p$."
   ]
  },
  {
   "cell_type": "code",
   "execution_count": 9,
   "metadata": {},
   "outputs": [],
   "source": [
    "def TAYLOR(f,p):\n",
    "    res = 0\n",
    "    for k in range(1, p+1):\n",
    "        res += h**k/np.math.factorial(k)*DER(f, k-1)\n",
    "        \n",
    "    return res"
   ]
  },
  {
   "cell_type": "code",
   "execution_count": 10,
   "metadata": {},
   "outputs": [
    {
     "name": "stdout",
     "output_type": "stream",
     "text": [
      "h*(-t*y**4/6 + y/3)\n"
     ]
    }
   ],
   "source": [
    "g=TAYLOR(f,1)\n",
    "print(g)      # affiche h*(-t*y**4/6 + y/3) : c'est en fait h*f(t,y) car quand p=1, Taylor = Euler Explicite"
   ]
  },
  {
   "cell_type": "markdown",
   "metadata": {},
   "source": [
    "$\\textbf{c)}$ Construire une fonction $\\texttt{TSCHEMA(f,T,N,y0,p)}$ qui prend en argument une expression $f$, un réel $T>0$, un entier $N>0$, un réel y0 et un entier $p\\geq1$, qui réalise le schéma explicite de Taylor $y_0=\\text{y0}$, $y_{n+1}=y_n+F(t_n,y_n,h)$, $1\\leq n\\leq N$, où $h=T/N$ et $t_n=nh$.\n",
    "\n",
    "La fonction $\\texttt{TSCHEMA}$ doit retourner le vecteur des temps $t_n$ et le vecteur des $y_n$ pour $0\\leq n \\leq N$."
   ]
  },
  {
   "cell_type": "code",
   "execution_count": 12,
   "metadata": {},
   "outputs": [],
   "source": [
    "def TSCHEMA(f,T,N,y0,p):\n",
    "    pas=T/N                   # ne pas utiliser y,t,h qui sont déjà pris comme symboles\n",
    "    tn = np.linspace(0, T, N+1)\n",
    "    yn = [y0]\n",
    "    \n",
    "    F = TAYLOR(f, p)\n",
    "    F = sp.lambdify([t, y, h], F)\n",
    "    \n",
    "    for i in range(N):\n",
    "        yn.append(yn[i] + F(tn[i], yn[i], pas))\n",
    "        \n",
    "    return tn, yn"
   ]
  },
  {
   "cell_type": "markdown",
   "metadata": {},
   "source": [
    "$\\textbf{d)}$ Tracer cinq graphes affichant à chaque fois le graphe de la solution $y$, ainsi que la courbe du schéma de Taylor approximant $y$ pour $T=10$, $N=10$ et $p$ allant de $1$ à $5$."
   ]
  },
  {
   "cell_type": "code",
   "execution_count": 16,
   "metadata": {},
   "outputs": [
    {
     "data": {
      "image/png": "[encoded data removed]",
      "text/plain": [
       "<Figure size 432x288 with 1 Axes>"
      ]
     },
     "metadata": {
      "needs_background": "light"
     },
     "output_type": "display_data"
    },
    {
     "data": {
      "image/png": "[encoded data removed]",
      "text/plain": [
       "<Figure size 432x288 with 1 Axes>"
      ]
     },
     "metadata": {
      "needs_background": "light"
     },
     "output_type": "display_data"
    },
    {
     "data": {
      "image/png": "[encoded data removed]",
      "text/plain": [
       "<Figure size 432x288 with 1 Axes>"
      ]
     },
     "metadata": {
      "needs_background": "light"
     },
     "output_type": "display_data"
    },
    {
     "data": {
      "image/png": "[encoded data removed]",
      "text/plain": [
       "<Figure size 432x288 with 1 Axes>"
      ]
     },
     "metadata": {
      "needs_background": "light"
     },
     "output_type": "display_data"
    },
    {
     "data": {
      "image/png": "[encoded data removed]",
      "text/plain": [
       "<Figure size 432x288 with 1 Axes>"
      ]
     },
     "metadata": {
      "needs_background": "light"
     },
     "output_type": "display_data"
    }
   ],
   "source": [
    "for p in range(1, 6):\n",
    "    tn, yn = TSCHEMA(f, 10, 10, 1, p)\n",
    "    plt.plot(tn ,yn)\n",
    "    yexac = 1/( 3/2*np.exp(-tn) + tn/2-1/2 )**(1/3)\n",
    "    plt.plot(tn, yexac)\n",
    "    plt.legend(['TAYLOR', 'EXACTE'])\n",
    "    plt.title('p = '+str(p))\n",
    "    plt.show()\n"
   ]
  },
  {
   "cell_type": "markdown",
   "metadata": {},
   "source": [
    "$\\textbf{e)}$ Pour $T=10$, pour chaque $p\\in\\{1,2,3,4\\}$, et pour chaque $N\\in\\{16,32,64,\\dots,1024\\}$,\n",
    "calculer l'erreur $e_{p,N}=\\max_{0\\leq n\\leq N}|y_{n}-y(t_{n})|$\n",
    "où $y$ est la solution exacte. Pour chaque $p\\in\\{1,2,3,4\\}$, tracer\n",
    "$\\log(e_{p,N})$ en fonction de $\\log N$. Que dire de l'ordre de\n",
    "convergence en fonction de $p$ ?"
   ]
  },
  {
   "cell_type": "code",
   "execution_count": 22,
   "metadata": {},
   "outputs": [
    {
     "data": {
      "image/png": "[encoded data removed]",
      "text/plain": [
       "<Figure size 432x288 with 1 Axes>"
      ]
     },
     "metadata": {
      "needs_background": "light"
     },
     "output_type": "display_data"
    }
   ],
   "source": [
    "for p in [1,2,3,4]:\n",
    "    err = []\n",
    "    for N in [16,32,64,128,256,512,1024]:\n",
    "        tn,yn = TSCHEMA(f,10,N,1,p)\n",
    "        yexac = 1/( 3/2*np.exp(-tn) + tn/2-1/2 )**(1/3)\n",
    "        err.append(np.max(np.abs(yn - yexac)))\n",
    "    \n",
    "    plt.plot(np.log([16,32,64,128,256,512,1024]), np.log(err), label='p='+str(p))\n",
    "\n",
    "plt.legend()\n",
    "plt.xlabel('N')\n",
    "plt.ylabel('err')\n",
    "plt.show()"
   ]
  },
  {
   "cell_type": "markdown",
   "metadata": {},
   "source": [
    "### Exercice 2. Méthode de Runge Kutta explicite\n",
    "\n",
    "Reprenons le problème de Cauchy donné en Exercice 1,\n",
    "\n",
    "$$\n",
    "\\left\\lbrace\\begin{aligned}y'(t)&=\\frac{y}{3}-\\frac{ty^4}{6}\\\\y(0)&=1\\end{aligned}\\right.\n",
    "$$\n",
    "\n",
    "Nous rappelons qu'un schéma de Runge-Kutta *explicite* peut être défini à partir de son tableau de Butcher\n",
    "\n",
    "$$\n",
    "\\begin{array}{c|cccc}\n",
    "c_{1} & 0 & & \\large{0}\\\\\n",
    "c_{2} & a_{21} & 0 & \\\\\n",
    "\\vdots & \\vdots & \\ddots & \\ddots\\\\\n",
    "c_{q} & a_{q1} & \\cdots & a_{q\\,q-1} & 0\\\\\n",
    "\\hline  & b_{1} & \\cdots & b_{q\\,q-1} & b_{qq}\n",
    "\\end{array}$$\n",
    "\n",
    "avec les formules suivantes\n",
    "\n",
    "$$\\left\\lbrace\\begin{aligned}\n",
    "t_{n,i}&=t_n+c_ih, & 1\\leq i\\leq q,\\\\\n",
    "y_{n,i}&=y_{n}+h\\sum_{j=1}^{i-1}a_{ij}f(t_{n,j},y_{n,j}), & 1\\leq i\\leq q,\n",
    "\\\\\n",
    "y_{n+1}&=y_{n}+h\\sum_{1\\leq j\\leq q}b_{j}f(t_{n,j},y_{n,j}):= y_n+hF(t_n,y_n,h).\n",
    "\\end{aligned}\\right.$$\n",
    "\n",
    "Par exemple, le schéma d'Euler explicite correspond au schéma de Runge-Kutta avec le tableau de Butcher suivant :\n",
    "\n",
    "$$\n",
    "\\begin{array}{c|c}\n",
    "0 & 0\\\\\n",
    "\\hline  & 1\n",
    "\\end{array}\\quad\\Rightarrow\\quad\\begin{cases}\n",
    "t_{n,1}=t_{n} & (=t_{n}+0\\times h)\\\\\n",
    "y_{n,1}=y_{n} & (=y_{n}+h\\times0)\\\\\n",
    "y_{n+1}=y_{n}+hf(t_{n},y_{n}) & (=y_{n}+h\\times1\\times f(t_{n,1},y_{n,1}))\n",
    "\\end{cases}\n",
    "$$"
   ]
  },
  {
   "cell_type": "markdown",
   "metadata": {},
   "source": [
    "#### Schéma de Runge Kutta Explicite\n",
    "\n",
    "$\\textbf{a)}$ Ecrire une fonction $\\texttt{RK(f,A,b,c)}$ prenant en argument une fonction $f$ (et non une expression) dépendant de deux arguments, une matrice triangulaire inférieure $A$ avec diagonale nulle, et deux vecteurs $b$ et $c$ de même dimension, et retournant la fonction $F$ du schéma de Runge-Kutta correspondant (notez que $F$ doit être une fonction)."
   ]
  },
  {
   "cell_type": "code",
   "execution_count": null,
   "metadata": {},
   "outputs": [],
   "source": [
    "def RK(f,A,b,c):\n",
    "    q=len(b)\n",
    "    def F(t0,y0,h0):     # t,y,h sont déjà pris\n",
    "        ...\n",
    "    return F"
   ]
  },
  {
   "cell_type": "markdown",
   "metadata": {},
   "source": [
    "On rappelle le tableau de Butcher du schéma de Heun (RK2) et du schéma (RK4).\n",
    "\n",
    "Schéma (RK2) :\n",
    "$$\\begin{array}{c|cc}\n",
    "0&0&0\\\\\n",
    "1&1&0\\\\\n",
    "\\hline\n",
    "&1/2&1/2\\end{array}$$\n",
    "\n",
    "Schéma (RK4) :\n",
    "$$\\begin{array}{c|cccc}\n",
    "0&0 & & \\large{0} & \\\\\n",
    "1/2&1/2&0&&\\\\\n",
    "1/2&0&1/2&0&\\\\\n",
    "1&0&0&1&0\\\\\n",
    "\\hline\n",
    "&1/6&1/3&1/3&1/6\\end{array}$$"
   ]
  },
  {
   "cell_type": "markdown",
   "metadata": {},
   "source": [
    "$\\textbf{b)}$ Créer des fonctions $\\texttt{Euler(t,y,h)}$, $\\texttt{RK2(t,y,h)}$ et $\\texttt{RK4(t,y,h)}$ retournant les fonctions respectives $F$ des schémas d'Euler, de Runge-Kutta d'ordre 2 et de Runge-Kutta d'ordre 4."
   ]
  },
  {
   "cell_type": "code",
   "execution_count": null,
   "metadata": {},
   "outputs": [],
   "source": [
    "def f(t,y):              # Pour cet exercice, f est une fonction\n",
    "    return y/3-t*y**4/6  \n",
    "\n",
    "Euler = ...\n",
    "\n",
    "\n",
    "\n",
    "RK2 = ...\n",
    "\n",
    "\n",
    "\n",
    "RK4 = ..."
   ]
  },
  {
   "cell_type": "markdown",
   "metadata": {},
   "source": [
    "$\\textbf{c)}$  Construire une fonction $\\texttt{SCHEMAEXP(F,t,N,y0)}$ qui prend en argument une fonction $F=F(t,y,h)$, un réel $T>0$, un entier $N>0$, un réel y0, qui réalise le schéma explicite $y_0=\\text{y0}$, $y_{n+1}=y_n+\\color{red}{h} F(t_n,y_n,h)$, $1\\leq n\\leq N$, où $h=T/N$ et $t_n=nh$.\n",
    "\n",
    "La fonction $\\texttt{SCHEMAEXP}$ doit retourner le vecteur des temps $t_n$ et le vecteur des $y_n$ pour $0\\leq n \\leq N$.\n",
    "\n",
    "*On pourra adapter le code de la fonction* $\\texttt{TSCHEMA}$ *de l'exercice précédent*."
   ]
  },
  {
   "cell_type": "code",
   "execution_count": null,
   "metadata": {},
   "outputs": [],
   "source": [
    "def SCHEMAEXP(F,T,N,y0):\n",
    "    pas=T/N                   # ne pas utiliser y,t,h qui sont déjà pris comme symboles\n",
    "    ..."
   ]
  },
  {
   "cell_type": "markdown",
   "metadata": {},
   "source": [
    "$\\textbf{d)}$  Etude qualitative : comparer sur un même graphique les courbes obtenues avec la solution exacte, et les trois schémas d'Euler, RK2 et RK4 sur $[0,T]=[0,10]$ et pour $N\\in\\{10,20,100\\}$. Commenter."
   ]
  },
  {
   "cell_type": "code",
   "execution_count": null,
   "metadata": {},
   "outputs": [],
   "source": []
  },
  {
   "cell_type": "markdown",
   "metadata": {},
   "source": [
    "$\\textbf{e)}$ Etude quantitative. Pour $T=10$, pour chaque méthode (Euler, RK2, RK4), et pour chaque $N\\in\\{16,32,64,\\dots,1024\\}$, calculer l'erreur $e_{N}=\\max_{0\\leq n\\leq N}|y_{n}-y(t_{n})|$\n",
    "où $y$ est la solution exacte. Pour chaque méthode, tracer\n",
    "$\\log(e_{N})$ en fonction de $\\log N$. Que dire de l'ordre de\n",
    "convergence de chaque méthode ?\n",
    "\n",
    "*On pourra adapter le code de la question **e)** de l'exercice précédent*."
   ]
  },
  {
   "cell_type": "code",
   "execution_count": null,
   "metadata": {},
   "outputs": [],
   "source": []
  },
  {
   "cell_type": "markdown",
   "metadata": {},
   "source": [
    "### Exercice 3 : Runge-Kutta implicite\n",
    "\n",
    "Les méthodes de Runge-Kutta explicites peuvent échouer sur certaines EDO trop \"raides\", lorsque le pas $h$ est trop grand. Pour ce type d'EDO, on privilégie alors des méthodes implicites : elles sont plus difficiles à coder et plus coûteuses en temps de calcul pour faire un pas, mais on peut prendre un pas beaucoup plus grand et la convergence sera quand même meilleure.\n",
    "\n",
    "Dans cet exercice, on considère\n",
    "\n",
    "$$\n",
    "\\begin{cases}\n",
    "y^{\\prime}(t)=f(t,y), & t>0,\\\\\n",
    "y(0)=1.\n",
    "\\end{cases}\n",
    "$$\n",
    "avec\n",
    "$$f(t,y)=50(t-y),\\qquad y(0)= 1.$$ \n",
    "\n",
    "A nouveau, nous avons une expression explicite de (l'unique) solution $y$ sur $\\mathbb{R}^+$ :\n",
    "\n",
    "$$y(t)=\\left(1+\\frac{1}{50}\\right)e^{-50t} + t -\\frac{1}{50},\\qquad \\forall t\\geq 0.$$\n",
    "\n",
    "\n",
    "\n",
    "#### Schéma de Radau IIA\n",
    "\n",
    "Nous proposons maintenant d'implémenter le schéma de Runge-Kutta dit de *Radau IIA* donné par le tableau de Butcher suivant :\n",
    "$$\\begin{array}{c|ccc}\n",
    "1/3&5/12&-1/12\\\\\n",
    "1&3/4&1/4\\\\\n",
    "\\hline\n",
    "&3/4&1/4\n",
    "\\end{array}.$$\n",
    "\n",
    "La matrice $A$ associée à ce tableau n'est plus triangulaire inférieure à diagonale nulle : il s'agit donc d'un schéma *implicite*. En effet, le schéma est alors défini par\n",
    "\n",
    "$$\\left\\lbrace\\begin{aligned}\n",
    "t_{n,i}&=t_n+c_ih, & 1\\leq i\\leq q,\\\\\n",
    "y_{n,i}&=y_{n}+h\\sum_{1\\leq j\\leq q}a_{ij}f(t_{n,j},y_{n,j}), & 1\\leq i\\leq q,\n",
    "\\\\\n",
    "y_{n+1}&=y_{n}+h\\sum_{1\\leq j\\leq q}b_{j}f(t_{n,j},y_{n,j}):= y_n+hF(t_n,y_n,h).\n",
    "\\end{aligned}\\right.$$\n",
    "\n",
    "et on voit que les $y_{n,i}$ ne sont plus explicites."
   ]
  },
  {
   "cell_type": "markdown",
   "metadata": {},
   "source": [
    "##### Usage de matrice avec Sympy :\n",
    "Pour déclarer une matrice de variable symbolique Sympy $B$ à partir d'un tableau d'expressions symboliques $A$, il suffit d'utiliser la commande $\\texttt{B=sp}.\\texttt{Matrix([A])}$. A partir d'un vecteur $V$ de variables symboliques Sympy, on peut calculer sa matrice Jacobienne en utilisant la commande $\\texttt{sp}.\\texttt{Matrix}.\\texttt{jacobian(V,[$x_{i_1},\\ldots,x_{i_p}$])}$, où les variables entre crochets précisent les variables par rapport auxquelles on différentie. Enfin pour inverser une matrice $A$ de type sympy, on écrite simplement $\\texttt{A}.\\texttt{inv()}$. Remarquer que Sympy peut inverser des matrices symboliques (ce n'est en général pas conseillé car lourd en temps de calcul).\n",
    "\n",
    "Attention, pour des matrices Sympy, la multiplication de matrices se fait en écrivant $\\texttt{A*B}$, et non $\\texttt{np.dot(A,B)}$. Pour des matrices de type numpy, $\\texttt{A*B}$ réalise une multiplication élément par élément.\n",
    "\n",
    "Voici un exemple de la syntaxe à utiliser : "
   ]
  },
  {
   "cell_type": "code",
   "execution_count": null,
   "metadata": {},
   "outputs": [],
   "source": [
    "from sympy.abc import x,y,z\n",
    "V=sp.Matrix([[3*x+y**2/z],[8*z*x]])   #Introduit V comme une matrice sympy\n",
    "J=sp.Matrix.jacobian(V,[x,y])\n",
    "Jinv=J.inv()\n",
    "print('V      =',V)\n",
    "print('')\n",
    "print('Jac(V) =',J)\n",
    "print('')\n",
    "print('Inv(Jac(V)) =',Jinv)\n",
    "print('')\n",
    "print('J*Inv(J)    =',Jinv*J)"
   ]
  },
  {
   "cell_type": "markdown",
   "metadata": {},
   "source": [
    "**a)** A partir du tableau de Butcher, écrire l'équation satisfaite par $(y_{n,1},y_{n,2})$ en fonction de $f$, $t_n$, $y_n$ et $h$, puis trouver une fonction $G:\\mathbb{R}^2\\to \\mathbb{R}^2$ qui dépend de $y,\\,t$ et $h$, telle que $(a,b)=(y_{n,1},y_{n,2})$ si et seulement si $G(a,b)=0$."
   ]
  },
  {
   "cell_type": "markdown",
   "metadata": {},
   "source": [
    "Réponse : En notant $t=t_n$ et $y=y_n$, on doit avoir \n",
    "\n",
    "$$\\begin{cases}\n",
    "y_{n,1} & =y+h\\left[\\frac{5}{12}f\\left(t+h/3,y_{n,1}\\right)-\\frac{1}{12}f\\left(t+h,y_{n,2}\\right)\\right]\\\\\n",
    "y_{n,2} & =y+h\\left[\\frac{3}{4}f\\left(t+h/3,y_{n,1}\\right)+\\frac{1}{4}f\\left(t+h,y_{n,2}\\right)\\right]\n",
    "\\end{cases}$$\n",
    "\n",
    "soit $G(y_{n,1},y_{n,2})=0$, avec $G:\\mathbb{R}^2\\rightarrow\\mathbb{R}^2$ définie par \n",
    "\n",
    "$$G(a,b)=\\left(\\begin{array}{c}\n",
    "y-a+h\\left[\\frac{5}{12}f\\left(t+h/3,a\\right)-\\frac{1}{12}f\\left(t+h,b\\right)\\right]\\\\\n",
    "y-b+h\\left[\\frac{3}{4}f\\left(t+h/3,a\\right)+\\frac{1}{4}f\\left(t+h,b\\right)\\right]\n",
    "\\end{array}\\right)$$"
   ]
  },
  {
   "cell_type": "markdown",
   "metadata": {},
   "source": [
    "**b)** Créer une fonction $\\texttt{matG}(f)$ qui à partir d'une expression $f=f(t,y)$, retourne l'expression vectorielle (2x1) $G$ ci-dessus en fonction des symboles $a,b,t,y,h$. Puis créer une fonction $\\texttt{InvJacobianG}(f)$ qui retourne l'expression de l'inverse de la matrice Jacobienne de l'expression $G$ selon les variables $(a,b)$.\n",
    "\n",
    "Important : pour obtenir l'expression $f(t,a)$ à partir de $f=f(t,y)$, on peut utiliser $\\texttt{f}.\\texttt{subs(y,a)}$. La commande $\\texttt{subs(y,a)}$ remplace le symbole $y$ par $a$ dans l'expression $f$. On peut de la même manière remplacer $t$ par $t+h$."
   ]
  },
  {
   "cell_type": "code",
   "execution_count": null,
   "metadata": {},
   "outputs": [],
   "source": [
    "from sympy.abc import a,b,y,t,h\n",
    "..."
   ]
  },
  {
   "cell_type": "markdown",
   "metadata": {},
   "source": [
    "**c)** Définissez l'expression $f$. Puis, avec la fonction $\\texttt{sp}.\\texttt{lambdify}$ vu en début d'exercice 1, transformer l'expression obtenue par $\\texttt{matG(f)}$ en une fonction $G=G(a,b,t,y,h)$. De même, transformer l'expression obtenue par $\\texttt{InvJacobianG(f)}$ en une fonction $invJG=invJG(a,b,t,y,h)$."
   ]
  },
  {
   "cell_type": "code",
   "execution_count": null,
   "metadata": {
    "scrolled": true
   },
   "outputs": [],
   "source": [
    "f     = ...\n",
    "G     = ...\n",
    "invJG = ..."
   ]
  },
  {
   "cell_type": "markdown",
   "metadata": {},
   "source": [
    "**d)** On rappelle l'algorithme de Newton en dimension deux : on fixe $x_0\\in\\mathbb{R}^2$ puis pour tout $n$, tant que $Jac[G](x_n)$ est inversible, on calcule\n",
    "\n",
    "$$x_{n+1}=x_n-Jac[G](x_n)^{-1}G(x_n).$$\n",
    "\n",
    "jusqu'à ce que l'erreur $\\Vert G(x_n) \\Vert$ en norme euclidienne (ou une autre norme de $\\mathbb{R}^2$) soit plus petite que $\\texttt{1e-12}$ (par exemple).\n",
    "\n",
    "Créer une fonction $\\texttt{Newton(t0,y0,h0)}$ prenant la fonction $f$ du problème et les réels $t0,y0,h0$ et retournant le zéro de la fonction $G$ définie précédemment par l'algorithme de Newton en partant du point $(y0,y0)$. On prendra pour critère d'arrêt une erreur inférieure à $\\texttt{1e-12}$. "
   ]
  },
  {
   "cell_type": "code",
   "execution_count": null,
   "metadata": {},
   "outputs": [],
   "source": [
    "def Newton(t0,y0,h0):            # attention t,y,h sont déjà pris !\n",
    "    ..."
   ]
  },
  {
   "cell_type": "markdown",
   "metadata": {},
   "source": [
    "**e)** Créer une fonction $\\texttt{RKRADAU(t0,y0,h0)}$ prenant en entrées les réels $t0,\\,y0,\\,h0$ et retournant la fonction $F(t,y,h)$ de l'algorithme de Runge-Kutta Radau IIA, défini par le tableau de Butcher donné en début d'exercice. \n",
    "\n",
    "Dans notre cadre, le calcul de $(y_{n,1},y_{n,2})$ se fait de manière implicite par la fonction $\\texttt{Newton(t0,y0,h0)}$."
   ]
  },
  {
   "cell_type": "code",
   "execution_count": null,
   "metadata": {},
   "outputs": [],
   "source": [
    "def RKRADAU(t0,y0,h0):\n",
    "    ..."
   ]
  },
  {
   "cell_type": "markdown",
   "metadata": {},
   "source": [
    "**f)** Etude qualitative : comparer sur un même graphique la solution exacte et les courbes obtenues par les méthodes RK4 et RK-Radau IIA avec $\\color{orange}{T=1}$ pour $N\\in\\{15,18,20\\}$. Commenter."
   ]
  },
  {
   "cell_type": "code",
   "execution_count": null,
   "metadata": {},
   "outputs": [],
   "source": []
  },
  {
   "cell_type": "markdown",
   "metadata": {},
   "source": [
    "**g)** Etude quantitative : Pour $T=1$, pour chaque méthode (RK4, RK Radau IIA), et pour chaque $N\\in\\{32,64,\\dots,1024\\}$, calculer l'erreur $e_{N}=\\max_{0\\leq n\\leq N}|y_{n}-y(t_{n})|$\n",
    "où $y$ est la solution exacte. Pour chaque méthode, tracer\n",
    "$\\log(e_{N})$ en fonction de $\\log N$. Que dire de l'ordre de\n",
    "convergence de chaque méthode ?\n",
    "\n",
    "Avec le package $time$ et la fonction $time.time()$, déterminer le temps de calcul de chaque méthode en fonction de $N$ et tracer ce temps de calcul. Commenter."
   ]
  },
  {
   "cell_type": "code",
   "execution_count": null,
   "metadata": {},
   "outputs": [],
   "source": [
    "import time\n",
    "..."
   ]
  },
  {
   "cell_type": "markdown",
   "metadata": {},
   "source": [
    "La méthode de Radau IIA est donc d'ordre 3 (comparé à l'ordre 4 de RK4) et met par ailleurs beaucoup plus de temps lorsque $N$ est grand. Cependant, lorsque $N$ reste petit (ou lorsque la raideur est très grande, par exemple $f(t,y)=5000(t-y)$), la méthode RK4 approxime très mal la solution et Radau IIA est donc meilleure.\n",
    "\n",
    "On peut montrer que la méthode de Gauss-Legendre (cf tableau de Butcher ci-dessous) est implicite et d'ordre 4, et donc encore meilleure que Radau IIA (pour un temps de calcul similaire).\n",
    "\n",
    "$$\n",
    "\\begin{array}{c|cc}\n",
    "\\frac{1}{2}-\\frac{\\sqrt{3}}{6} & \\frac{1}{4} & \\frac{1}{4}-\\frac{\\sqrt{3}}{6}\\\\\n",
    "\\frac{1}{2}+\\frac{\\sqrt{3}}{6} & \\frac{1}{4}+\\frac{\\sqrt{3}}{6} & \\frac{1}{4}\\\\\n",
    "\\hline  & \\frac{1}{2} & \\frac{1}{2}\n",
    "\\end{array}$$"
   ]
  }
 ],
 "metadata": {
  "kernelspec": {
   "display_name": "Python 3 (ipykernel)",
   "language": "python",
   "name": "python3"
  },
  "language_info": {
   "codemirror_mode": {
    "name": "ipython",
    "version": 3
   },
   "file_extension": ".py",
   "mimetype": "text/x-python",
   "name": "python",
   "nbconvert_exporter": "python",
   "pygments_lexer": "ipython3",
   "version": "3.8.10"
  },
  "varInspector": {
   "cols": {
    "lenName": 16,
    "lenType": 16,
    "lenVar": 40
   },
   "kernels_config": {
    "python": {
     "delete_cmd_postfix": "",
     "delete_cmd_prefix": "del ",
     "library": "var_list.py",
     "varRefreshCmd": "print(var_dic_list())"
    },
    "r": {
     "delete_cmd_postfix": ") ",
     "delete_cmd_prefix": "rm(",
     "library": "var_list.r",
     "varRefreshCmd": "cat(var_dic_list()) "
    }
   },
   "position": {
    "height": "701.85px",
    "left": "1343px",
    "right": "20px",
    "top": "120px",
    "width": "350px"
   },
   "types_to_exclude": [
    "module",
    "function",
    "builtin_function_or_method",
    "instance",
    "_Feature"
   ],
   "window_display": true
  }
 },
 "nbformat": 4,
 "nbformat_minor": 2
}
