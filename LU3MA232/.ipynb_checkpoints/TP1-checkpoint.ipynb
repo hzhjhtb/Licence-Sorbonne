{
 "cells": [
  {
   "cell_type": "markdown",
   "metadata": {
    "id": "YDuVjMj32yh8"
   },
   "source": [
    "### Sorbonne Université, Faculté des Sciences et Ingénierie, 2021-2022\n",
    "### Licence de Mathématiques, Analyse numérique ( LU3MA232)\n",
    "\n",
    "---\n",
    "\n",
    "<center> <h1>TP1 : Approximation d'un problème de Cauchy</h1> </center>\n",
    "\n",
    "---"
   ]
  },
  {
   "cell_type": "code",
   "execution_count": 1,
   "metadata": {
    "id": "oKHqaz0u2yh_"
   },
   "outputs": [],
   "source": [
    "# import Python \n",
    "import numpy as np\n",
    "import matplotlib.pyplot as plt"
   ]
  },
  {
   "cell_type": "markdown",
   "metadata": {
    "id": "SKOkmeXc2yiA"
   },
   "source": [
    "## Exercice 1 - Rappels de `Python` et cas d'un exercice du TD1 \n",
    "\n",
    "Dans cet exercice nous allons reprendre l'exercice 6 du TD1. Soit $T>0$, on considère ainsi le problème de Cauchy ci-dessous : \n",
    "$$(P_1)\n",
    "\\begin{cases}\n",
    "y'(t)= - 10 ( y(t) - t^2 ) + 2t~,~ 0<t<T~, \\\\\n",
    "y(0) = 0.\n",
    "\\end{cases}\n",
    "$$\n",
    "\n",
    "On a vu que la solution est la fonction $y(t) =t^2$. Dans la suite on prendra $T=1$.\n",
    "\n",
    "**Q1)** Coder une routine `Python` pour cette solution."
   ]
  },
  {
   "cell_type": "code",
   "execution_count": null,
   "metadata": {
    "id": "mO39Ipbd2yiB"
   },
   "outputs": [],
   "source": []
  },
  {
   "cell_type": "markdown",
   "metadata": {
    "id": "FPZItFGp2yiB"
   },
   "source": [
    "On souhaite à présent représenter graphiquement la solution. Plusieurs étapes sont nécessaires:\n",
    "\n",
    "- Construire une discrétisation $(t_n)_{n\\ge0}$ de l'intervalle $[0,T]$ : pour $N \\in \\mathbb{N}^*$, on pose $h=\\frac{T}{N}$, et on définit $t_n = nh$ pour $n=0,\\ldots,N$.\n",
    "\n",
    "- Evaluer la fonction aux différents temps de discrétisation : $y(t_n)$ pour $n \\ge 0$.\n",
    "\n",
    "- Afficher la ligne brisée des points $(t_n, y(t_n))_{n \\ge 0}$.\n",
    "\n",
    "- Ajouter de l'information au graphique pour faciliter la lecture (*légende, titre,*...).\n",
    "\n",
    "***Remarque:*** Notez que plus la discrétisation est fine plus la courbe est lisse (aspect \"continu\"). En revanche, en pratique, une discrétisation trop fine pourra induire des temps de calculs très longs.\n",
    "\n",
    "**Q2)** Tracer sur un même graphique la solution pour les deux discrétisations suivantes : $N \\in \\{ 5, 20 \\}$."
   ]
  },
  {
   "cell_type": "code",
   "execution_count": null,
   "metadata": {
    "id": "HcneSwH62yiC",
    "outputId": "04a8a64d-19f9-4f85-b176-6451b1b8cb36"
   },
   "outputs": [],
   "source": []
  },
  {
   "cell_type": "markdown",
   "metadata": {
    "id": "WshekD_m2yiD"
   },
   "source": [
    "On se propose de résoudre numériquement le problème $(P_1)$ par la méthode d'Euler explicite. On cherche ainsi à calculer une suite de valeurs $(y_n)_{0 \\le n \\le N}$ tel que $y_n$ approche $y(t_n)$. Nous avons vu en TD que, dans le cas présent, la méthode s'écrit :\n",
    "$$(E_1)\n",
    "\\begin{cases}\n",
    "y_{n+1} = (1-10h) y_n + 2 n h^2 ( 1 + 5 n h)~,~ n = 0, \\dots, N-1, \\\\\n",
    "y_0 = 0.\n",
    "\\end{cases}\n",
    "$$\n",
    "\n",
    "**Q3)** Coder une routine `Python` qui prend en paramètre d'entrée la valeur de $N$ et qui retourne en sortie les temps discrets $(t_n)_{0 \\le n \\le N}$ (*on a toujours $t_n = nh$ et $h=T/N$*) ainsi que les valeurs $(y_n)_{0 \\le n \\le N}$ données par $(E_1)$."
   ]
  },
  {
   "cell_type": "code",
   "execution_count": null,
   "metadata": {
    "id": "JV-uVnGY2yiD"
   },
   "outputs": [],
   "source": []
  },
  {
   "cell_type": "markdown",
   "metadata": {
    "id": "ymM-kbuJ2yiE"
   },
   "source": [
    "**Q4)** Représenter sur un même graphique :\n",
    "- la solution continue $y(t)$ sur $[0,T]$ (*de façon suffisamment \"lisse\"*),\n",
    "- les valeurs $(t_n,y_n)_{0 \\le n \\le N}$ du schéma $(E_1)$ pour $N \\in \\{ 5, 20 \\}$."
   ]
  },
  {
   "cell_type": "code",
   "execution_count": null,
   "metadata": {
    "id": "isTWHeYF2yiE",
    "outputId": "7571e712-37f6-4fba-fb35-23be1dcbe508",
    "scrolled": true
   },
   "outputs": [],
   "source": []
  },
  {
   "cell_type": "markdown",
   "metadata": {
    "id": "Fv7npT_d2yiF"
   },
   "source": [
    "**Q5)** La schéma d'Euler explicite est connu pour être une méthode d'ordre 1. Nous allons le vérifier numériquement.\n",
    "- Déclarer un tableau contenant différentes valeurs de $N = [8, 16, 32, 64, 128]$.\n",
    "- Pour chaque valeur de $N$, calculer :\n",
    "    - le tableau des temps discrets, $(t_n)_{n\\ge 0}$,\n",
    "    - le schéma d'Euler explicite $(E_1)$, $(y_n)_{n\\ge 0}$,\n",
    "    - la solution exacte aux temps discrets, $(y(t_n))_{n\\ge 0}$,\n",
    "    - le pas $h=\\frac{T}{N}$ et l'erreur $e_h$, associés à cette discrétisation, sans oublier de stocker ces valeurs et avec,\n",
    "        $$e_h = \\max_{0\\le n \\le N}(|y(t_n)-y_n)|).$$\n",
    "- Représenter sur un graphique l'erreur $e_h$ en fonction de $h$ avec une échelle logarithmique sur les deux axes. En effet, si $e_h \\sim C h^p$, en passant en échelle logarithmique, on a  $\\log(e_h) \\sim p \\log(h) + \\log(C)$. Les résultats du TD ont permis d'estimer que $p=1$ et $C \\simeq \\frac{1}{10}$ pour $h$ *\"suffisamment petit\"*."
   ]
  },
  {
   "cell_type": "code",
   "execution_count": null,
   "metadata": {
    "id": "EhpYipYR2yiG",
    "outputId": "98a320e4-7baa-4e2e-dc9b-64bede8399d6"
   },
   "outputs": [],
   "source": []
  },
  {
   "cell_type": "markdown",
   "metadata": {
    "id": "gOGsOojA2yiG"
   },
   "source": [
    "**Q6)** Reprendre les questions **Q3)** et **Q5** pour le second problème de l'exercice 6 du TD1, à savoir le problème de Cauchy: \n",
    "$$(P_2)\n",
    "\\begin{cases}\n",
    "y'(t)= 10 ( y(t) - t^2 ) + 2t~,~ 0<t<T~, \\\\\n",
    "y(0) = 0.\n",
    "\\end{cases}\n",
    "$$\n",
    "Dont la solution est toujours la fonction $y(t) =t^2$. La méthode d'Euler explicite donne ici :\n",
    "$$(E_2)\n",
    "\\begin{cases}\n",
    "y_{n+1} = (1+10h) y_n + 2 n h^2 ( 1 - 5 n h)~,~ n = 0, \\dots, N-1, \\\\\n",
    "y_0 = 0.\n",
    "\\end{cases}\n",
    "$$\n",
    "On avait noté que l'erreur $e_h$ se comportait également en $C h^p$ avec toujours $p=1$ mais ici avec $C \\simeq \\frac{e^{10 T}}{10}$. Arrivez-vous à retrouver graphiquement ce résultat ? Il ne faut pas hésiter à rendre $h$ *\"suffisamment petit\"*."
   ]
  },
  {
   "cell_type": "code",
   "execution_count": null,
   "metadata": {
    "id": "pyz_Ig7-2yiH",
    "outputId": "9cff4c38-5671-4372-84fa-1108e4de0ca2"
   },
   "outputs": [],
   "source": []
  },
  {
   "cell_type": "markdown",
   "metadata": {
    "id": "O4xXJ2t12yiJ"
   },
   "source": [
    "## Exercice 2 - Chute d'un objet\n",
    "\n",
    "### I. Modélisation du phénomène\n",
    "\n",
    "Dans cet exercice, nous nous intéressons au problème de mécanique suivant : la chute d'un corps de masse $m$, initialement lancé à la vitesse $v_{\\mathrm{init}}$, sous l'effet d'un champ gravitationnel $g$ (qu'on supposera constant). Si la chute se produit dans l'air ambiant, on pourra négliger la poussée d'Archimède, mais pas la force de frottement liée à la vitesse $v$ du corps. On suppose que les forces de frottements peuvent se mettre sous la forme : $\\vec{F} = - \\alpha v$, s'opposant ainsi au mouvement. Le second principe de la dynamique nous donne alors :\n",
    "$$(C)\n",
    "\\begin{cases}\n",
    "m v'(t) = m g - \\alpha v(t) ~,~ 0<t<T ~, \\\\\n",
    "v(0) = v_{\\mathrm{init}}.\n",
    "\\end{cases}\n",
    "$$\n",
    "où $T>0$ correspond au temps final d'étude du mouvement de chute. On peut montrer que la solution au problème $(C)$ est donnée par :\n",
    "$$\n",
    "v(t) = \\frac{m g}{\\alpha} \\left(1-e^{-\\dfrac{\\alpha}{m}t} \\right) + v_{\\mathrm{init}} e^{-\\dfrac{\\alpha}{m}t}.\n",
    "$$\n",
    "On prendra les valeurs numériques suivantes :\n",
    "- $T  =  2$ [$s$]\n",
    "- $v_{\\mathrm{init}} = 0.2$ [$m/s$]\n",
    "- $m = 1$  [$kg$]\n",
    "- $g = 9.81$ [$m/s^2$]\n",
    "\n",
    "**Q1)** Coder la fonction solution en `Python`. Puis tracer cette solution pour $\\alpha \\in \\{ 0.1, 1, 10\\}$ [$kg/s$] afin de visualiser l'effet du frottement."
   ]
  },
  {
   "cell_type": "code",
   "execution_count": null,
   "metadata": {
    "id": "VVCQsXNQ2yiJ",
    "outputId": "7b9842d6-fe6c-4916-cc9a-1e2dd734d5f7"
   },
   "outputs": [],
   "source": []
  },
  {
   "cell_type": "markdown",
   "metadata": {
    "id": "1aWQcdOW2yiK"
   },
   "source": [
    "** Attention :** dans toute la suite on prendra $\\alpha = 3$ [$kg/s$].\n",
    "\n",
    "### II. Schéma d'Euler explicite\n",
    "\n",
    "On souhaite approcher le problème $(C)$ par la méthode d'Euler explicite et réaliser une étude de convergence.\n",
    "\n",
    "**Q2)** Déterminer la fonction $f:[0,T]\\times\\mathbb{R} \\rightarrow \\mathbb{R}$ telle que le problème $(C)$ se réécrive sous la forme : \n",
    "$$(P)\n",
    "\\begin{cases}\n",
    "v'(t) = f(t,v(t)) ~,~ 0<t<T ~, \\\\\n",
    "v(0) = v_{\\mathrm{init}}.\n",
    "\\end{cases}\n",
    "$$"
   ]
  },
  {
   "cell_type": "code",
   "execution_count": null,
   "metadata": {
    "id": "Av2mpHWK2yiL"
   },
   "outputs": [],
   "source": []
  },
  {
   "cell_type": "markdown",
   "metadata": {
    "id": "mfsgXFEf2yiL"
   },
   "source": [
    "Nous allons rappeler la méthode d'Euler explicite pour approcher le problème $(P)$. Soit $N \\in \\mathbb{N}^*$, on introduit les temps discrets $t_n = n h$, $n=0,1,\\ldots, N$ avec  $h = \\frac{T}{N}$. La méthode  consiste à trouver une suite de valeurs $v_n$ approchant les valeurs $v(t_n)$, pour tout $n=0,1,\\ldots, N$. On aura :\n",
    "$$(EE)\n",
    "\\begin{cases}\n",
    "v_{n+1} = v_n + h \\, f(t_n,v_n) ~,~ n=0,1,\\ldots, N-1, \\\\\n",
    "v_0 = v_{\\mathrm{init}}.\n",
    "\\end{cases}\n",
    "$$\n",
    "Nous allons reprendre la stratégie d'étude numérique de l'exercice précédent. \n",
    "\n",
    "**Q3)** Coder les actions suivantes :\n",
    "1. La méthode d'Euler explicite $(EE)$ afin d'approcher $(C)$. *On pourra choisir de coder une méthode d'Euler \"générique\" prenant $f$ en entrée ou bien particularisée au cas d'étude*.\n",
    "2. Sur un même graphique, représenter la solution exacte et la solution approchée par le schéma $(EE)$ pour $N=25$.\n",
    "3. Calculer l'erreur du schéma $(EE)$ pour $N = [25, 50, 100, 200]$ et représenter graphiquement cette erreur afin de vérifier qu'on retrouve l'ordre 1."
   ]
  },
  {
   "cell_type": "code",
   "execution_count": null,
   "metadata": {
    "id": "ROZVmsFs2yiM"
   },
   "outputs": [],
   "source": []
  },
  {
   "cell_type": "markdown",
   "metadata": {
    "id": "N57Ztj_u2yiM"
   },
   "source": [
    "### II. Schéma d'Euler modifié\n",
    "\n",
    "On reprend le schéma d'Euler modifié, vu en cours, pour le problème $(P)$. En réutilisant les mêmes notations que ci-dessus, on aura :\n",
    "$$(EM)\n",
    "\\begin{cases}\n",
    "v_{n+1} = v_n + h \\, f\\left(t_{n} + \\frac{h}{2}, v_{n} + \\frac{h}{2} f(t_{n}, v_{n} ) \\right)~,~ n=0,1,\\ldots, N-1,  \\\\\n",
    "v_0 = v_{\\mathrm{init}}.\n",
    "\\end{cases}\n",
    "$$\n",
    "\n",
    "**Q4)** Reprendre la question **Q3)** pour ce schéma, cette fois-ci on devra retrouver l'ordre 2."
   ]
  },
  {
   "cell_type": "code",
   "execution_count": null,
   "metadata": {
    "id": "EQzQfkUn2yiM"
   },
   "outputs": [],
   "source": []
  },
  {
   "cell_type": "markdown",
   "metadata": {
    "id": "wZEQjtDJ2yiN"
   },
   "source": [
    "### III. Schéma d'Euler implicite\n",
    "\n",
    "Pour finir on regarde la méthode d'Euler implicite pour approcher le problème $(P)$. En réutilisant les mêmes notations que ci-dessus, on aura :\n",
    "$$(EI)\n",
    "\\begin{cases}\n",
    "v_{n+1} = v_n + h \\, f(t_{n+1},v_{n+1}) ~,~ n=0,1,\\ldots, N-1, \\\\\n",
    "v_0 = v_{\\mathrm{init}}.\n",
    "\\end{cases}\n",
    "$$\n",
    "\n",
    "**Q5)** Reprendre la question **Q3)** pour le schéma d'Euler implicite."
   ]
  },
  {
   "cell_type": "code",
   "execution_count": null,
   "metadata": {
    "id": "6hOMVpGn2yiN"
   },
   "outputs": [],
   "source": []
  }
 ],
 "metadata": {
  "celltoolbar": "Format de la Cellule Texte Brut",
  "colab": {
   "collapsed_sections": [],
   "name": "TP1_correction.ipynb",
   "provenance": []
  },
  "kernelspec": {
   "display_name": "Python 3",
   "language": "python",
   "name": "python3"
  },
  "language_info": {
   "codemirror_mode": {
    "name": "ipython",
    "version": 3
   },
   "file_extension": ".py",
   "mimetype": "text/x-python",
   "name": "python",
   "nbconvert_exporter": "python",
   "pygments_lexer": "ipython3",
   "version": "3.7.3"
  }
 },
 "nbformat": 4,
 "nbformat_minor": 1
}
