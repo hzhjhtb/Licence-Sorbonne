{
 "cells": [
  {
   "cell_type": "markdown",
   "metadata": {
    "id": "9fciVfNFWEmu"
   },
   "source": [
    "### Sorbonne Université\n",
    "### L3 - Mathématiques - Analyse Numérique (LU3MA232)\n",
    "\n",
    "---\n",
    "\n",
    "<center> <h1>TP6 : Schémas symplectiques pour un système hamiltonien</h1> </center>\n",
    "\n",
    "---"
   ]
  },
  {
   "cell_type": "code",
   "execution_count": 1,
   "metadata": {
    "id": "yexFFYsMWEmy"
   },
   "outputs": [],
   "source": [
    "import numpy as np\n",
    "import matplotlib.pyplot as plt"
   ]
  },
  {
   "cell_type": "markdown",
   "metadata": {
    "id": "-thIZrHYWEm0"
   },
   "source": [
    "## Introduction "
   ]
  },
  {
   "cell_type": "markdown",
   "metadata": {
    "id": "P2Mb9c3tWEm1"
   },
   "source": [
    "Dans ce TP, nous nous intéressons à l'intégration d'un système Hamiltonien : le mouvement d'une planète autour d'un astre. La masse de l'astre étant supposée beaucoup plus grande que celle de la planète, nous considérerons l'astre comme étant fixe et à l'origine de notre repère. La planète est modélisée par un vecteur position $q$ et un vecteur vitesse $p$. La seule force agissant sur la planête est la force de gravitation entre la planète et l'astre, par conséquent la deuxième loi de Newton donne :\n",
    "$$ \\frac{d^2 q}{d t^2 } = -\\frac{\\mu q}{||q||^3} $$\n",
    "où $\\mu = G m$, $G$ étant la constante universelle de gravitation et $m$ la masse de l'astre. Dans toute la suite du TP, nous supposerons que le problème est adimensionné et nous prendrons $\\mu = 1$. \n",
    "\n",
    "La conservation du moment cinétique nous permet d'affirmer que le mouvement est plan. De ce fait, nous considérons que $(q, p) \\in \\mathbb{R}^2 \\times \\mathbb{R}^2$. Le système d'EDO à résoudre s'écrit alors:\n",
    "$$ (E) \\left\\lbrace\n",
    "\\begin{aligned}\n",
    "&q'(t) = p(t), \\\\\n",
    "&p'(t) = -\\frac{q(t)}{||q(t)||^3}, \\\\\n",
    "&q(0) = q_0, \\\\ \n",
    "&p(0) = p_0.\n",
    "\\end{aligned}\n",
    "\\right.$$\n",
    "\n"
   ]
  },
  {
   "cell_type": "markdown",
   "metadata": {
    "id": "YjCQmLCQWEm3"
   },
   "source": [
    "## I- Approche naïve : le schéma d'Euler explicite"
   ]
  },
  {
   "cell_type": "markdown",
   "metadata": {
    "id": "mcLcjey9WEm4"
   },
   "source": [
    "La première résolution proposée est une résolution naïve via la méthode d'Euler explicite (à pas constant): \n",
    "\n",
    "$$ \\left\\lbrace\n",
    "\\begin{aligned}\n",
    "&q_{n+1} = q_n + h  p_n, \\\\\n",
    "&p_{n+1} = p_n  - h \\frac{q_n}{||q_n||^3}\n",
    "\\end{aligned}\n",
    "\\right.$$\n",
    "\n",
    "avec $||q||=\\sqrt{q[0]^2 + q[1]^2}$ la norme euclidienne dans $\\mathbb{R}^2$. \n",
    "\n",
    "1) Écrire une fonction $EulerExplicite(q_0, p_0, T, N)$ prenant en entrée un couple de position-vitesse initiales $q_0, p_0$, un temps final $T$ et nombre d'étapes $N$ qui renvoie une matrice $M$ de taille $4 \\times (N+1)$ comportant sur les deux premières lignes l'ensemble des positions approchées par le schéma d'Euler explicite $\\left( q_n \\right)_{0 \\leq n \\leq N}$ et sur les deux dernières lignes l'ensemble des vitesses approchées par le schéma d'Euler explicite $\\left( p_n \\right)_{0 \\leq n \\leq N}$. \n"
   ]
  },
  {
   "cell_type": "code",
   "execution_count": 1,
   "metadata": {
    "id": "ghqxu0krWEm6"
   },
   "outputs": [],
   "source": []
  },
  {
   "cell_type": "markdown",
   "metadata": {
    "id": "3XCpekqyWEm7"
   },
   "source": [
    "2) Écrire une fonction $Courbe(M)$ prenant en entrée une matrice $M$ de taille $4 \\times (N+1)$ et qui affiche le graphe de la seconde ligne de la matrice $M$ en fonction de la première ligne de $M$. On marquera par une croix la position initiale, grâce à la fonction *plt.plot(M[0,0], M[1,0], marker=\"x\")*."
   ]
  },
  {
   "cell_type": "code",
   "execution_count": 1,
   "metadata": {
    "id": "xF-a3nMuWEm8"
   },
   "outputs": [],
   "source": []
  },
  {
   "cell_type": "markdown",
   "metadata": {
    "id": "BnXoJWGkWEnA"
   },
   "source": [
    "3) En utilisant les fonctions $EulerExplicite$ et $Courbe$, afficher la trajectoire de la planète calculée par la méthode d'Euler explicite avec les paramètres $e=0.1$, $q_0 = [1-e,0]$, $p_0 = \\left[0, \\sqrt{\\frac{1+e}{1-e}}\\right]$, $T=40.0$ et $N=1000$. \n",
    "\n",
    "Que remarquez vous ? (On rappelle que l'orbite théorique d'une planète autour de son astre est une ellipse.)"
   ]
  },
  {
   "cell_type": "code",
   "execution_count": 1,
   "metadata": {
    "id": "DPuO33opWEnA"
   },
   "outputs": [],
   "source": []
  },
  {
   "cell_type": "markdown",
   "metadata": {
    "id": "MN3Ec2OQWEnA"
   },
   "source": [
    "4) Deux quantités sont conservées théoriquement au cours du temps par le système : \n",
    "- le moment cinétique\n",
    "$$ L(t) =  q[0](t)p[1](t) - q[1](t)p[0](t), $$\n",
    "- l'énergie mécanique totale\n",
    "$$ H(t) = \\frac{||p(t)||^ 2 }{2} - \\frac{1}{||q(t)||}. $$ \n",
    "\n",
    "Écrire une fonction $Constantes(M,t)$ qui prend en entrée une matrice $M$ position-vitesse de taille $4 \\times (N+1)$ et un tableau des temps $t = [t_0, ..., t_N]$, et qui affiche les courbes de $L$ et $H$ en fonction du temps. \n",
    "\n",
    "Remarque : pour voir les petites variations, il vaut mieux tracer $L$ et $H$ sur des graphiques séparés."
   ]
  },
  {
   "cell_type": "code",
   "execution_count": 1,
   "metadata": {
    "id": "bjQ3fYJvWEnB"
   },
   "outputs": [],
   "source": []
  },
  {
   "cell_type": "markdown",
   "metadata": {
    "id": "KIQRDjAnWEnB"
   },
   "source": [
    "5) Appliquer la fonction $Constantes$ à la solution numérique donnée par la méthode d'Euler explicite, pour les mêmes paramètres que précédemment. Que constatez vous ? "
   ]
  },
  {
   "cell_type": "code",
   "execution_count": 1,
   "metadata": {
    "id": "tEdNSolwWEnC"
   },
   "outputs": [],
   "source": []
  },
  {
   "cell_type": "markdown",
   "metadata": {
    "id": "uKceExw2WEnC"
   },
   "source": [
    "## II- Un premier schéma symplectique : Euler symplectique"
   ]
  },
  {
   "cell_type": "markdown",
   "metadata": {
    "id": "QRZmELiIWEnD"
   },
   "source": [
    "On introduit le schéma d'Euler symplectique (à pas constant) défini par : \n",
    "\n",
    "$$ \\left\\lbrace\n",
    "\\begin{aligned}\n",
    "&q_{n+1} = q_n + h p_n, \\\\\n",
    "&p_{n+1} = p_n - h \\frac{ q_{n+1}}{||q_{n+1}||^3}.\n",
    "\\end{aligned}\n",
    "\\right. $$\n",
    "\n",
    "6) Écrire une fonction $EulerSympl(q_0, p_0, T, N)$ prenant en entrée un couple de position-vitesse initiales $q_0, p_0$, un temps final $T$ et nombre d'étapes $N$ qui renvoie une matrice de taille $4 \\times (N+1)$ comportant sur les deux premières lignes l'ensemble des positions approchées par le schéma d'Euler symplectique $\\left( q_n \\right)_{0 \\leq n \\leq N }$ et sur les deux dernières lignes l'ensemble des vitesses approchées par le schéma d'Euler symplectique $\\left( p_n \\right)_{0 \\leq n \\leq N }$.  "
   ]
  },
  {
   "cell_type": "code",
   "execution_count": 1,
   "metadata": {
    "id": "MBiy9IXDWEnD"
   },
   "outputs": [],
   "source": []
  },
  {
   "cell_type": "markdown",
   "metadata": {
    "id": "eXAOqJBvWEnE"
   },
   "source": [
    "7) En utilisant les fonctions $EulerSympl$ et $Courbe$, afficher la trajectoire de la planète calculée par la méthode d'Euler symplectique avec les paramètres $e=0.1$, $q_0 = [1-e,0]$, $p_0 = \\left[0, \\sqrt{\\frac{1+e}{1-e}}\\right]$, $T=40.0$ et $N=1000$. Que remarquez vous ?"
   ]
  },
  {
   "cell_type": "code",
   "execution_count": 1,
   "metadata": {
    "id": "8wDjuW-JWEnL"
   },
   "outputs": [],
   "source": []
  },
  {
   "cell_type": "markdown",
   "metadata": {
    "id": "XGWeMIprWEnM"
   },
   "source": [
    "8) Appliquer la fonction $Constantes$ à la solution numérique donnée par la méthode d'Euler symplectique, pour les mêmes paramètres que précédemment. Que constatez vous ? "
   ]
  },
  {
   "cell_type": "code",
   "execution_count": 1,
   "metadata": {
    "id": "Tv3SAamRWEnM"
   },
   "outputs": [],
   "source": []
  },
  {
   "cell_type": "markdown",
   "metadata": {
    "id": "l8v0slx4WEnM"
   },
   "source": [
    "## III- Comparaison de schémas d'ordre plus élevé"
   ]
  },
  {
   "cell_type": "markdown",
   "metadata": {
    "id": "2Gj_Cc44WEnO"
   },
   "source": [
    "On peut légitimement remettre en question la pertinence du choix d'un schéma d'Euler explicite pour des échelles de temps $T$ grandes, étant donné qu'il est \"seulement\" d'ordre 1. Nous allons comparer deux schémas d'ordre 2 : le schéma RK2 (non symplectique) et le schéma du point milieu (symplectique).  \n",
    "\n",
    "9) Rappelons que le tableau de Butcher du schéma RK2 est :\n",
    "$$\\begin{array}{c|cc}\n",
    "0&0&0\\\\\n",
    "1&1&0\\\\\n",
    "\\hline\n",
    "&1/2&1/2\\end{array}$$\n",
    "\n",
    "Écrire une fonction $RK2(q_0, p_0, T, N)$ qui calcule une solution approchée du problème $(E)$ via le schéma RK2.\n"
   ]
  },
  {
   "cell_type": "code",
   "execution_count": 1,
   "metadata": {
    "id": "EZb_PZo3WEnO"
   },
   "outputs": [],
   "source": []
  },
  {
   "cell_type": "markdown",
   "metadata": {
    "id": "SGBHW_n-WEnP"
   },
   "source": [
    "Dans notre cas, le schéma du point milieu s'écrit : \n",
    "\n",
    "$$ \\left\\lbrace\n",
    "\\begin{aligned}\n",
    "&q_{n+1} = q_n + h \\times \\frac{p_n + p_{n+1}}{2}, \\\\\n",
    "&p_{n+1} = p_n - h \\times \\frac{4 \\left(q_n + q_{n+1}\\right)}{||q_n + q_{n+1}||^3}.\n",
    "\\end{aligned}\n",
    "\\right. $$\n",
    "\n",
    "Ce schéma étant implicite, nous allons devoir, à chaque étape $n$, trouver les zéros d'une fonction afin de calculer les valeurs à l'étape $n+1$.\n",
    "\n",
    "10) Écrire la fonction $F(h, q_n, p_n, x,y)$ définie par :\n",
    "\n",
    "$$ F(h, q_n, p_n, x,y) =  \\left(\n",
    "\\begin{aligned}\n",
    "&x - q_n - h \\times \\frac{p_n + y}{2}  \\\\\n",
    "&y - p_n + h \\times \\frac{4 (q_n + x)}{||q_n + x||^3}\n",
    "\\end{aligned}\n",
    "\\right).$$\n",
    "\n",
    "Cette fonction est telle que si le couple $(x,y)$ est solution de $F(h, q_n, p_n, x, y) = 0$, alors $q_{n+1} = x$ et $p_{n+1} = y$. On remarquera que, puisque $q_n, p_n \\in \\mathbb{R}^2$, on a $F(h,q_n,p_n,x,y) \\in \\mathbb{R}^4$.  "
   ]
  },
  {
   "cell_type": "code",
   "execution_count": 1,
   "metadata": {
    "id": "Bvz318flWEnP"
   },
   "outputs": [],
   "source": []
  },
  {
   "cell_type": "markdown",
   "metadata": {
    "id": "uyItCwGt9D8w"
   },
   "source": [
    "11) Écrire une fonction $dF(h,q_n,p_n,x,y)$ qui renvoie la dérivée de $F$ par rapport aux variables $x$ et $y$. Autrement dit, puisque $x,y \\in \\mathbb{R}^2$ et $F(h,q_n,p_n,x,y) = \\left(\\begin{array}{c} F_1(h,q_n,p_n,x,y) \\\\ F_2(h,q_n,p_n,x,y) \\\\ F_3(h,q_n,p_n,x,y) \\\\ F_4(h,q_n,p_n,x,y) \\end{array}\\right) \\in \\mathbb{R}^4$, la fonction $dF$ doit renvoyer la matrice \n",
    "\n",
    "$$J = \\left(\\begin{array}{cccc} \n",
    "\\frac{\\partial F_1}{\\partial x[0]} & \\frac{\\partial F_1}{\\partial x[1]} & \\frac{\\partial F_1}{\\partial y[0]} & \\frac{\\partial F_1}{\\partial y[1]} \\\\\n",
    "\\frac{\\partial F_2}{\\partial x[0]} & \\frac{\\partial F_2}{\\partial x[1]} & \\frac{\\partial F_2}{\\partial y[0]} & \\frac{\\partial F_2}{\\partial y[1]} \\\\\n",
    "\\frac{\\partial F_3}{\\partial x[0]} & \\frac{\\partial F_3}{\\partial x[1]} & \\frac{\\partial F_3}{\\partial y[0]} & \\frac{\\partial F_3}{\\partial y[1]} \\\\\n",
    "\\frac{\\partial F_4}{\\partial x[0]} & \\frac{\\partial F_4}{\\partial x[1]} & \\frac{\\partial F_4}{\\partial y[0]} & \\frac{\\partial F_4}{\\partial y[1]}\n",
    "\\end{array}\\right) \\in \\mathcal{M}_{4,4}(\\mathbb{R}) $$"
   ]
  },
  {
   "cell_type": "code",
   "execution_count": 1,
   "metadata": {
    "id": "t3YHsPO89EQf"
   },
   "outputs": [],
   "source": []
  },
  {
   "cell_type": "markdown",
   "metadata": {
    "id": "H74sH3_1WEnP"
   },
   "source": [
    "12) Écrire une fonction $NewtonF(h, q_n, p_n, prec)$ permettant de calculer une approximation d'un zéro de $F(h, q_n, p_n, \\cdot, \\cdot)$ avec une précision égale à $prec$. Pour cela, on utilisera l'algorithme de Newton en multi-D. \n",
    "\n",
    "Nous rappelons que la résolution d'un système linéaire de type $A X =  b$ est donnée par la fonction $np.linalg.solve(A, b)$.\n",
    "\n",
    "Traditionnellement, pour résoudre un schéma numérique, la méthode de Newton est initialisée avec $x_0 = q_n$ et $y_0 = p_n$."
   ]
  },
  {
   "cell_type": "code",
   "execution_count": 1,
   "metadata": {
    "id": "YK45Wpq4WEnP"
   },
   "outputs": [],
   "source": []
  },
  {
   "cell_type": "markdown",
   "metadata": {
    "id": "8i_aMVBLWEnP"
   },
   "source": [
    "13) À l'aide de la fonction $NewtonF$ utilisée avec une précision de $10^{-9}$, écrire une fonction $PointMilieu(q_0, p_0, T, N)$ permettant d'approcher la solution de l'équation via la méthode point milieu."
   ]
  },
  {
   "cell_type": "code",
   "execution_count": 1,
   "metadata": {
    "id": "n8YAWtoeWEnQ"
   },
   "outputs": [],
   "source": []
  },
  {
   "cell_type": "markdown",
   "metadata": {
    "id": "I-hiE57nWEnQ"
   },
   "source": [
    "14) Comparer les résultats de la fonction $Courbe$ pour les solutions calculées par les méthodes $RK2$ et $PointMilieu$ avec $e=0.1$, $q_0 = [1-e,0]$, $p_0 = \\left[0, \\sqrt{\\frac{1+e}{1-e}}\\right]$, $T=40$ et $N=1000$. Que constatez vous ?\n"
   ]
  },
  {
   "cell_type": "code",
   "execution_count": 1,
   "metadata": {
    "id": "fAilrbggWEnR"
   },
   "outputs": [],
   "source": []
  },
  {
   "cell_type": "markdown",
   "metadata": {
    "id": "tx6-0H9W3cuv"
   },
   "source": [
    "15) Même question pour $N = 100$."
   ]
  },
  {
   "cell_type": "code",
   "execution_count": 1,
   "metadata": {
    "id": "Fs4_S3wo3j5d"
   },
   "outputs": [],
   "source": []
  },
  {
   "cell_type": "markdown",
   "metadata": {
    "id": "-ak9dr0XtQzU"
   },
   "source": [
    "16) Même question pour $T = 400$ et $N = 10 000$."
   ]
  },
  {
   "cell_type": "code",
   "execution_count": 1,
   "metadata": {
    "id": "zliDll01tasw"
   },
   "outputs": [],
   "source": []
  },
  {
   "cell_type": "code",
   "execution_count": 1,
   "metadata": {
    "id": "ZmDhMEClvfYT"
   },
   "outputs": [],
   "source": []
  },
  {
   "cell_type": "markdown",
   "metadata": {
    "id": "hNyQhl8cWEnV"
   },
   "source": [
    "17) Calculer la valeur analytique des fonctions constantes $L$ et $H$ définies à la question 5 pour $e=0.1$, $q_0 = [1-e,0]$, $p_0 = \\left[0, \\sqrt{\\frac{1+e}{1-e}}\\right]$."
   ]
  },
  {
   "cell_type": "markdown",
   "metadata": {
    "id": "2I_44X3ExTaP"
   },
   "source": [
    "18) Soient $L_{meth}(t_n)$ et $H_{meth}(t_n)$ les valeurs de $L$ et $H$ pour la solution approchée par la méthode $meth$ au point $t_n$. On note \n",
    "$$ \\left\\lbrace\\begin{aligned}\n",
    "  &e^L_N(meth) = \\max_{0 \\le n \\le N}\\big| L - L_{meth}(t_n) \\big|, \\\\\n",
    "  &e^H_N(meth) = \\max_{0 \\le n \\le N}\\big| H - H_{meth}(t_n) \\big|,\n",
    "\\end{aligned}\\right.$$\n",
    "les erreurs d'approximation sur $L$ et $H$ pour la méthode $meth$.\n",
    "\n",
    "Comparer l'évolution de ces deux erreurs en fonction du nombre d'itérations $N \\in \\{100,500,1000,2500,5000\\}$, pour les 4 méthodes étudiées (tracer deux graphiques, l'un pour $e^L$ et l'autre pour $e^H$). On reprendra $e=0.1$, $q_0 = [1-e,0]$, $p_0 = \\left[0, \\sqrt{\\frac{1+e}{1-e}}\\right]$ et $T=40$."
   ]
  },
  {
   "cell_type": "code",
   "execution_count": 1,
   "metadata": {
    "id": "5kOvdGpiWEnW"
   },
   "outputs": [],
   "source": []
  }
 ],
 "metadata": {
  "colab": {
   "collapsed_sections": [],
   "name": "TP6.ipynb",
   "provenance": []
  },
  "kernelspec": {
   "display_name": "Python 3 (ipykernel)",
   "language": "python",
   "name": "python3"
  },
  "language_info": {
   "codemirror_mode": {
    "name": "ipython",
    "version": 3
   },
   "file_extension": ".py",
   "mimetype": "text/x-python",
   "name": "python",
   "nbconvert_exporter": "python",
   "pygments_lexer": "ipython3",
   "version": "3.8.10"
  }
 },
 "nbformat": 4,
 "nbformat_minor": 2
}
